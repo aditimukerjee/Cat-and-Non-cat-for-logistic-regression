{
  "nbformat": 4,
  "nbformat_minor": 0,
  "metadata": {
    "colab": {
      "name": "MNIST dataset.ipynb",
      "provenance": [],
      "authorship_tag": "ABX9TyM2t147GYzZ5EbYpYY+7v6/",
      "include_colab_link": true
    },
    "kernelspec": {
      "name": "python3",
      "display_name": "Python 3"
    }
  },
  "cells": [
    {
      "cell_type": "markdown",
      "metadata": {
        "id": "view-in-github",
        "colab_type": "text"
      },
      "source": [
        "<a href=\"https://colab.research.google.com/github/aditimukerjee/DL-Logistic-Regression-Cat-and-Non-Cat-Image-Classification/blob/main/MNIST_dataset.ipynb\" target=\"_parent\"><img src=\"https://colab.research.google.com/assets/colab-badge.svg\" alt=\"Open In Colab\"/></a>"
      ]
    },
    {
      "cell_type": "code",
      "metadata": {
        "id": "acrEYjO0npqY"
      },
      "source": [
        "MNIST dataset \n"
      ],
      "execution_count": null,
      "outputs": []
    },
    {
      "cell_type": "code",
      "metadata": {
        "id": "me6ok1-CnuSz"
      },
      "source": [
        "%matplotlib inline\n",
        "import numpy as np\n",
        "import matplotlib.pylab as plt\n",
        "import tensorflow as tf\n"
      ],
      "execution_count": 15,
      "outputs": []
    },
    {
      "cell_type": "markdown",
      "metadata": {
        "id": "YmnoZbwTtKJh"
      },
      "source": [
        "Shown below is the MNIST dataset"
      ]
    },
    {
      "cell_type": "code",
      "metadata": {
        "colab": {
          "base_uri": "https://localhost:8080/"
        },
        "id": "_b8nhf9znwn5",
        "outputId": "478ebc60-17c1-475c-d3b7-92be26862639"
      },
      "source": [
        "data_mnist = tf.keras.datasets.mnist.load_data(path=\"mnist.npz\")\n",
        "data_mnist"
      ],
      "execution_count": 97,
      "outputs": [
        {
          "output_type": "execute_result",
          "data": {
            "text/plain": [
              "((array([[[0, 0, 0, ..., 0, 0, 0],\n",
              "          [0, 0, 0, ..., 0, 0, 0],\n",
              "          [0, 0, 0, ..., 0, 0, 0],\n",
              "          ...,\n",
              "          [0, 0, 0, ..., 0, 0, 0],\n",
              "          [0, 0, 0, ..., 0, 0, 0],\n",
              "          [0, 0, 0, ..., 0, 0, 0]],\n",
              "  \n",
              "         [[0, 0, 0, ..., 0, 0, 0],\n",
              "          [0, 0, 0, ..., 0, 0, 0],\n",
              "          [0, 0, 0, ..., 0, 0, 0],\n",
              "          ...,\n",
              "          [0, 0, 0, ..., 0, 0, 0],\n",
              "          [0, 0, 0, ..., 0, 0, 0],\n",
              "          [0, 0, 0, ..., 0, 0, 0]],\n",
              "  \n",
              "         [[0, 0, 0, ..., 0, 0, 0],\n",
              "          [0, 0, 0, ..., 0, 0, 0],\n",
              "          [0, 0, 0, ..., 0, 0, 0],\n",
              "          ...,\n",
              "          [0, 0, 0, ..., 0, 0, 0],\n",
              "          [0, 0, 0, ..., 0, 0, 0],\n",
              "          [0, 0, 0, ..., 0, 0, 0]],\n",
              "  \n",
              "         ...,\n",
              "  \n",
              "         [[0, 0, 0, ..., 0, 0, 0],\n",
              "          [0, 0, 0, ..., 0, 0, 0],\n",
              "          [0, 0, 0, ..., 0, 0, 0],\n",
              "          ...,\n",
              "          [0, 0, 0, ..., 0, 0, 0],\n",
              "          [0, 0, 0, ..., 0, 0, 0],\n",
              "          [0, 0, 0, ..., 0, 0, 0]],\n",
              "  \n",
              "         [[0, 0, 0, ..., 0, 0, 0],\n",
              "          [0, 0, 0, ..., 0, 0, 0],\n",
              "          [0, 0, 0, ..., 0, 0, 0],\n",
              "          ...,\n",
              "          [0, 0, 0, ..., 0, 0, 0],\n",
              "          [0, 0, 0, ..., 0, 0, 0],\n",
              "          [0, 0, 0, ..., 0, 0, 0]],\n",
              "  \n",
              "         [[0, 0, 0, ..., 0, 0, 0],\n",
              "          [0, 0, 0, ..., 0, 0, 0],\n",
              "          [0, 0, 0, ..., 0, 0, 0],\n",
              "          ...,\n",
              "          [0, 0, 0, ..., 0, 0, 0],\n",
              "          [0, 0, 0, ..., 0, 0, 0],\n",
              "          [0, 0, 0, ..., 0, 0, 0]]], dtype=uint8),\n",
              "  array([5, 0, 4, ..., 5, 6, 8], dtype=uint8)),\n",
              " (array([[[0, 0, 0, ..., 0, 0, 0],\n",
              "          [0, 0, 0, ..., 0, 0, 0],\n",
              "          [0, 0, 0, ..., 0, 0, 0],\n",
              "          ...,\n",
              "          [0, 0, 0, ..., 0, 0, 0],\n",
              "          [0, 0, 0, ..., 0, 0, 0],\n",
              "          [0, 0, 0, ..., 0, 0, 0]],\n",
              "  \n",
              "         [[0, 0, 0, ..., 0, 0, 0],\n",
              "          [0, 0, 0, ..., 0, 0, 0],\n",
              "          [0, 0, 0, ..., 0, 0, 0],\n",
              "          ...,\n",
              "          [0, 0, 0, ..., 0, 0, 0],\n",
              "          [0, 0, 0, ..., 0, 0, 0],\n",
              "          [0, 0, 0, ..., 0, 0, 0]],\n",
              "  \n",
              "         [[0, 0, 0, ..., 0, 0, 0],\n",
              "          [0, 0, 0, ..., 0, 0, 0],\n",
              "          [0, 0, 0, ..., 0, 0, 0],\n",
              "          ...,\n",
              "          [0, 0, 0, ..., 0, 0, 0],\n",
              "          [0, 0, 0, ..., 0, 0, 0],\n",
              "          [0, 0, 0, ..., 0, 0, 0]],\n",
              "  \n",
              "         ...,\n",
              "  \n",
              "         [[0, 0, 0, ..., 0, 0, 0],\n",
              "          [0, 0, 0, ..., 0, 0, 0],\n",
              "          [0, 0, 0, ..., 0, 0, 0],\n",
              "          ...,\n",
              "          [0, 0, 0, ..., 0, 0, 0],\n",
              "          [0, 0, 0, ..., 0, 0, 0],\n",
              "          [0, 0, 0, ..., 0, 0, 0]],\n",
              "  \n",
              "         [[0, 0, 0, ..., 0, 0, 0],\n",
              "          [0, 0, 0, ..., 0, 0, 0],\n",
              "          [0, 0, 0, ..., 0, 0, 0],\n",
              "          ...,\n",
              "          [0, 0, 0, ..., 0, 0, 0],\n",
              "          [0, 0, 0, ..., 0, 0, 0],\n",
              "          [0, 0, 0, ..., 0, 0, 0]],\n",
              "  \n",
              "         [[0, 0, 0, ..., 0, 0, 0],\n",
              "          [0, 0, 0, ..., 0, 0, 0],\n",
              "          [0, 0, 0, ..., 0, 0, 0],\n",
              "          ...,\n",
              "          [0, 0, 0, ..., 0, 0, 0],\n",
              "          [0, 0, 0, ..., 0, 0, 0],\n",
              "          [0, 0, 0, ..., 0, 0, 0]]], dtype=uint8),\n",
              "  array([7, 2, 1, ..., 4, 5, 6], dtype=uint8)))"
            ]
          },
          "metadata": {
            "tags": []
          },
          "execution_count": 97
        }
      ]
    },
    {
      "cell_type": "code",
      "metadata": {
        "colab": {
          "base_uri": "https://localhost:8080/",
          "height": 164
        },
        "id": "o1-lK4NT7-wZ",
        "outputId": "03629166-00e5-4874-abb8-b4ef60e316f6"
      },
      "source": [
        "print(data_mnist.shape)"
      ],
      "execution_count": 101,
      "outputs": [
        {
          "output_type": "error",
          "ename": "AttributeError",
          "evalue": "ignored",
          "traceback": [
            "\u001b[0;31m---------------------------------------------------------------------------\u001b[0m",
            "\u001b[0;31mAttributeError\u001b[0m                            Traceback (most recent call last)",
            "\u001b[0;32m<ipython-input-101-ec70acf92a1c>\u001b[0m in \u001b[0;36m<module>\u001b[0;34m()\u001b[0m\n\u001b[0;32m----> 1\u001b[0;31m \u001b[0mprint\u001b[0m\u001b[0;34m(\u001b[0m\u001b[0mdata_mnist\u001b[0m\u001b[0;34m.\u001b[0m\u001b[0mshape\u001b[0m\u001b[0;34m)\u001b[0m\u001b[0;34m\u001b[0m\u001b[0;34m\u001b[0m\u001b[0m\n\u001b[0m",
            "\u001b[0;31mAttributeError\u001b[0m: 'tuple' object has no attribute 'shape'"
          ]
        }
      ]
    },
    {
      "cell_type": "markdown",
      "metadata": {
        "id": "LFlfanNU7wcD"
      },
      "source": [
        ""
      ]
    },
    {
      "cell_type": "markdown",
      "metadata": {
        "id": "063x2PWB7V6j"
      },
      "source": [
        "#1. LOADING THE DATASET  AND EXPLORING IT \n",
        "Splittint the entire dataset into testing and developmental dataset"
      ]
    },
    {
      "cell_type": "code",
      "metadata": {
        "colab": {
          "base_uri": "https://localhost:8080/"
        },
        "id": "K4gFB98wnwNX",
        "outputId": "1f217e2d-a21c-468a-8b88-846279cf57da"
      },
      "source": [
        "(X_dev,Y_dev),(X_test,Y_test) = tf.keras.datasets.mnist.load_data()\n",
        "print(\"Developmental set\")\n",
        "print(X_dev.shape)\n",
        "print(Y_dev.shape)\n",
        "\n",
        "\n",
        "print(\"Testing set\")\n",
        "print(X_test.shape)\n",
        "print(Y_test.shape)"
      ],
      "execution_count": 10,
      "outputs": [
        {
          "output_type": "stream",
          "text": [
            "Developmental set\n",
            "(60000, 28, 28)\n",
            "(60000,)\n",
            "Testing set\n",
            "(10000, 28, 28)\n",
            "(10000,)\n"
          ],
          "name": "stdout"
        }
      ]
    },
    {
      "cell_type": "markdown",
      "metadata": {
        "id": "8qSgvhkip51z"
      },
      "source": [
        "The devlopmental dataset has 60k rows with images of 28 pixel by 28 pixel\n",
        "\n",
        "The testing dataset has 10k rows with images of 28 pixel by 28 pixel\n"
      ]
    },
    {
      "cell_type": "markdown",
      "metadata": {
        "id": "sKmQMjoa8gLF"
      },
      "source": [
        "##Exploring the classes in the dataset"
      ]
    },
    {
      "cell_type": "code",
      "metadata": {
        "colab": {
          "base_uri": "https://localhost:8080/"
        },
        "id": "tPw2zydRqnX-",
        "outputId": "41ee29e8-79a0-4fa7-8ea4-fcaf772a064c"
      },
      "source": [
        "print(\"Number of classes in the developmental dataset\")\n",
        "print(np.unique(Y_dev))\n",
        "\n",
        "print(\"Number of classes in the testing dataset\")\n",
        "print(np.unique(Y_test))"
      ],
      "execution_count": 12,
      "outputs": [
        {
          "output_type": "stream",
          "text": [
            "Number of classes in the developmental dataset\n",
            "[0 1 2 3 4 5 6 7 8 9]\n",
            "Number of classes in the testing dataset\n",
            "[0 1 2 3 4 5 6 7 8 9]\n"
          ],
          "name": "stdout"
        }
      ]
    },
    {
      "cell_type": "markdown",
      "metadata": {
        "id": "QWS4z23Zqlfu"
      },
      "source": [
        "There are 10 unique classes in the dataset\n"
      ]
    },
    {
      "cell_type": "markdown",
      "metadata": {
        "id": "NA7ukw8rwu8u"
      },
      "source": [
        "##HISTOGRAM OF THE DEVELOPMENTAL DATASET"
      ]
    },
    {
      "cell_type": "code",
      "metadata": {
        "colab": {
          "base_uri": "https://localhost:8080/",
          "height": 281
        },
        "id": "wqslihIWsEbJ",
        "outputId": "c355b283-32bd-4dce-ca95-fe98256ef8bc"
      },
      "source": [
        "plt.figure()\n",
        "plt.hist(Y_dev,bins = range(0,11))#since the numbers range from 0 to 10\n",
        "plt.xlabel(\"Labels\")\n",
        "plt.ylabel(\"Frequency\")\n",
        "plt.show()"
      ],
      "execution_count": 19,
      "outputs": [
        {
          "output_type": "display_data",
          "data": {
            "image/png": "[encoded data removed]",
            "text/plain": [
              "<Figure size 432x288 with 1 Axes>"
            ]
          },
          "metadata": {
            "tags": [],
            "needs_background": "light"
          }
        }
      ]
    },
    {
      "cell_type": "markdown",
      "metadata": {
        "id": "xVSSn1upwZHx"
      },
      "source": [
        "The propositions of labels in the developmental datset depict a uniform distribtion "
      ]
    },
    {
      "cell_type": "markdown",
      "metadata": {
        "id": "nrlcqqzQvjk4"
      },
      "source": [
        "##SPLITTING DEVELOPMENTAL SET INTO TRAIN AND VALIDATION SET"
      ]
    },
    {
      "cell_type": "code",
      "metadata": {
        "colab": {
          "base_uri": "https://localhost:8080/"
        },
        "id": "EMgcslTYumKc",
        "outputId": "05faae17-5de7-4b6e-e225-27d4663aa9d9"
      },
      "source": [
        "indexes = np.arange(Y_dev.size ,dtype = int) #creating an array of all the labels in the developmental set\n",
        "#size of the samples in the development set, type\n",
        "np.random.shuffle(indexes) # shuffling the indexes\n",
        "X_dev = X_dev[indexes]\n",
        "Y_dev = Y_dev[indexes]\n",
        "# need to shuffle them in a syncoryzed manner so that the x and y correspond to one another\n",
        "\n",
        "#DEFINING THE SPLIT RATIO\n",
        "nsplit = int(0.75*Y_dev.size) # split ratio of the developmental dataset\n",
        "#splitting data into 75% developmental set and 25% test set\n",
        "\n",
        "X_train = X_dev[:nsplit]\n",
        "Y_train = Y_dev[:nsplit]\n",
        "\n",
        "X_val = X_dev[nsplit:]\n",
        "Y_val = Y_dev[nsplit:]\n",
        "\n",
        "print(\"Samples in training set\")\n",
        "print(X_train.shape)\n",
        "\n",
        "print(\"Samples in validation set\")\n",
        "print(X_val.shape)"
      ],
      "execution_count": 33,
      "outputs": [
        {
          "output_type": "stream",
          "text": [
            "Samples in training set\n",
            "(45000, 28, 28)\n",
            "Samples in validation set\n",
            "(15000, 28, 28)\n"
          ],
          "name": "stdout"
        }
      ]
    },
    {
      "cell_type": "markdown",
      "metadata": {
        "id": "FdCHOgE_zwy9"
      },
      "source": [
        "From 60k samples in the training set 45k went to training set and 15k went to validation set"
      ]
    },
    {
      "cell_type": "markdown",
      "metadata": {
        "id": "vwh1SIbb-FIJ"
      },
      "source": [
        "##DEPICTING BASIC INFORMATION ABOUT THE DATASET"
      ]
    },
    {
      "cell_type": "code",
      "metadata": {
        "colab": {
          "base_uri": "https://localhost:8080/"
        },
        "id": "zHAHXvPi0Hai",
        "outputId": "9e3b4ba2-d179-4e0c-eba5-e9fe7c3015cd"
      },
      "source": [
        "print(\"Training dataset info\")\n",
        "print(X_train.min(), X_train.max(), X_train.mean(),X_train.std())\n",
        "\n",
        "print(\"--------------------------------------\")\n",
        "print(\"Validation dataset info\")\n",
        "print(X_val.min(), X_val.max(), X_val.mean(),X_val.std())"
      ],
      "execution_count": 38,
      "outputs": [
        {
          "output_type": "stream",
          "text": [
            "Training dataset info\n",
            "0 255 33.265320918367344 78.50601555906351\n",
            "--------------------------------------\n",
            "Validation dataset info\n",
            "0 255 33.47772304421769 78.75141050348405\n"
          ],
          "name": "stdout"
        }
      ]
    },
    {
      "cell_type": "markdown",
      "metadata": {
        "id": "Xn6xzU4p0_Nx"
      },
      "source": [
        "Here we see the basic information aboutr the dataset\n",
        "In the trainining dataset the we see the min,max, mean and standard deviation are 0, 255, 33 and 78 respectively\n",
        "\n",
        "In the validation dataset the we see the min,max, mean and standard deviation are 0, 255, 33 and 79 respectively\n",
        "\n",
        "Both the values seem to be close ie. the data has been shuffled well"
      ]
    },
    {
      "cell_type": "markdown",
      "metadata": {
        "id": "CLkD2WfB1mAV"
      },
      "source": [
        "#2. DATA SCALING"
      ]
    },
    {
      "cell_type": "code",
      "metadata": {
        "id": "vhvTQsAJ1gcA"
      },
      "source": [
        "norm_type = 0 #0 ---> min_max normalization , 1----> standardization (mean/std)\n",
        "\n",
        "if norm_type == 0:\n",
        "  X_train = X_train/255\n",
        "  X_val = X_val/255\n",
        "  X_test = X_test/255\n",
        "elif norm_type == 1:  \n",
        "  train_mean = X_train.mean()\n",
        "  train_std = X_train.std()\n",
        "  X_train = X_train -train_mean /train_std\n",
        "  X_val = X_val -train_mean /train_std\n",
        "  X_test = X_test -train_mean /train_std  \n",
        "else:\n",
        "  pass # no normalization at all  "
      ],
      "execution_count": 40,
      "outputs": []
    },
    {
      "cell_type": "markdown",
      "metadata": {
        "id": "7U-4Y1h03Hli"
      },
      "source": [
        "We use the min_max normalization since the distribution is not gaussian\n",
        "\n",
        "ASK"
      ]
    },
    {
      "cell_type": "markdown",
      "metadata": {
        "id": "uW_WCJ443Od3"
      },
      "source": [
        "#3.One Hot Encoding"
      ]
    },
    {
      "cell_type": "code",
      "metadata": {
        "colab": {
          "base_uri": "https://localhost:8080/"
        },
        "id": "H24ioKXH3Sy7",
        "outputId": "3d9b3273-25cc-45be-f256-7b4586802d37"
      },
      "source": [
        "Y_train_oh = tf.keras.utils.to_categorical(Y_train)\n",
        "Y_val_oh = tf.keras.utils.to_categorical(Y_val)\n",
        "Y_test_oh = tf.keras.utils.to_categorical(Y_test)\n",
        "\n",
        "print(\"First 5 samples of the training dataset\")\n",
        "print (Y_train[0:5])\n",
        "\n",
        "print(\"First 5 one hot encoded samples of the training dataset\")\n",
        "print (Y_train_oh[0:5])"
      ],
      "execution_count": 44,
      "outputs": [
        {
          "output_type": "stream",
          "text": [
            "First 5 samples of the training dataset\n",
            "[4 3 2 7 8]\n",
            "First 5 one hot encoded samples of the training dataset\n",
            "[[0. 0. 0. 0. 1. 0. 0. 0. 0. 0.]\n",
            " [0. 0. 0. 1. 0. 0. 0. 0. 0. 0.]\n",
            " [0. 0. 1. 0. 0. 0. 0. 0. 0. 0.]\n",
            " [0. 0. 0. 0. 0. 0. 0. 1. 0. 0.]\n",
            " [0. 0. 0. 0. 0. 0. 0. 0. 1. 0.]]\n"
          ],
          "name": "stdout"
        }
      ]
    },
    {
      "cell_type": "markdown",
      "metadata": {
        "id": "Qa9SSjr7_fp7"
      },
      "source": [
        "It seems that one hot encoding has been done correctly"
      ]
    },
    {
      "cell_type": "markdown",
      "metadata": {
        "id": "pPMWX_Rs5NHp"
      },
      "source": [
        "#4.Define your model,cost function, optimizer, learning rate"
      ]
    },
    {
      "cell_type": "code",
      "metadata": {
        "id": "1YNZxz_p5UGd"
      },
      "source": [
        "def my_model(ishape = (28,28) , k =10 , lr = 1e-4): #shape of images, classes , learning rate\n",
        "    model_input = tf.keras.Input(shape = ishape)\n",
        "    model_input_flatten = tf.keras.layers.Flatten()(model_input) #layers are being flattened, input is the previosu layer\n",
        "    out = tf.keras.layers.Dense(k, activation = 'softmax') (model_input_flatten) # one layer that is output , k is classes, activation is softmax we need a probabilty at the end , input is model_input_flatten\n",
        "    model = tf.keras.models.Model(inputs =model_input , outputs = out ) #defining the model # define inputs and outputs to the model\n",
        "    model.compile(optimizer = tf.keras.optimizers.Adam(lr), loss = 'categorical_crossentropy', metrics = ['accuracy']) # compiling the model - define the optimzer, cost function \n",
        "    return model\n",
        "\n",
        "\n",
        "\n"
      ],
      "execution_count": 65,
      "outputs": []
    },
    {
      "cell_type": "markdown",
      "metadata": {
        "id": "L30x2-t49deI"
      },
      "source": [
        "#5. Defining 3 callbacks (callbacks means that if the model is not improving it will stop)"
      ]
    },
    {
      "cell_type": "code",
      "metadata": {
        "id": "rVjh_y9H9pCN"
      },
      "source": [
        "model_name = \"best_model_mnist.h5\"\n",
        "#CALLBACK - 1 - early_stop\n",
        "early_stop = tf.keras.callbacks.EarlyStopping(monitor = 'val_loss' , patience = 20) # if for 20 epochs the val_loss does not improve the training is going to be intereppupted\n",
        "#patience is how long the model is going to train without intereppupting\n",
        "\n",
        "#CALLBACK - 2 - monitor\n",
        "monitor = tf.keras.callbacks.ModelCheckpoint (model_name, monitor = 'val_loss',save_best_only = True , save_weights_only = True )\n",
        "# you save the best model and the weights\n",
        "#the callback is going the keep on chekcing the validation error and if teh validation error decreases tehn we will save the model as the best model\n",
        "# mode is whether u wabnt to save the minimum or maximum value of teh cost function, we are not defining mode as it is automaticcally defined defined by tf\n",
        "\n",
        "#CALLBACK - 3 - lr_schedule\n",
        "def scheduler(epoch, lr):\n",
        "  if epoch%10==0:  #every 10 epoch reduce the learning rate by a factor of 2 # 10 here use some other number elsewhere\n",
        "    lr = lr/2\n",
        "  return lr\n",
        "  \n",
        "lr_schedule = tf.keras.callbacks.LearningRateScheduler(scheduler)# definding the callback"
      ],
      "execution_count": 66,
      "outputs": []
    },
    {
      "cell_type": "markdown",
      "metadata": {
        "id": "05Mr77SGG2qd"
      },
      "source": [
        "TRAIN THE MODEL"
      ]
    },
    {
      "cell_type": "code",
      "metadata": {
        "colab": {
          "base_uri": "https://localhost:8080/"
        },
        "id": "w8v9NtQUG_QO",
        "outputId": "b3ae000d-ac79-4423-ef32-19e8a7ed84f8"
      },
      "source": [
        "model= my_model() #model is calling the model function that was defined in step 4\n",
        "\n",
        "model.fit(X_train,Y_train_oh,batch_size = 32, epochs=  200, verbose = 1, callbacks = [early_stop, monitor, lr_schedule], validation_data = (X_val,Y_val_oh), shuffle = True)\n",
        "#larger batches take longer to train and smaller batch sizes can train faster\n",
        "#graident approxinmation for a small batch size may not be that good\n",
        "# batch_size is the number of samples taht we use to estiamet teh gradient before taking one step\n",
        "#shuffle ie.e batches that u snet to the GPU are shuffled"
      ],
      "execution_count": 67,
      "outputs": [
        {
          "output_type": "stream",
          "text": [
            "Epoch 1/200\n",
            "1407/1407 [==============================] - 3s 2ms/step - loss: 2.3004 - accuracy: 0.3071 - val_loss: 2.2935 - val_accuracy: 0.5003\n",
            "Epoch 2/200\n",
            "1407/1407 [==============================] - 2s 2ms/step - loss: 2.2914 - accuracy: 0.5068 - val_loss: 2.2844 - val_accuracy: 0.5238\n",
            "Epoch 3/200\n",
            "1407/1407 [==============================] - 2s 2ms/step - loss: 2.2824 - accuracy: 0.5237 - val_loss: 2.2754 - val_accuracy: 0.5342\n",
            "Epoch 4/200\n",
            "1407/1407 [==============================] - 2s 2ms/step - loss: 2.2736 - accuracy: 0.5373 - val_loss: 2.2664 - val_accuracy: 0.5463\n",
            "Epoch 5/200\n",
            "1407/1407 [==============================] - 2s 2ms/step - loss: 2.2647 - accuracy: 0.5500 - val_loss: 2.2575 - val_accuracy: 0.5585\n",
            "Epoch 6/200\n",
            "1407/1407 [==============================] - 2s 2ms/step - loss: 2.2559 - accuracy: 0.5649 - val_loss: 2.2487 - val_accuracy: 0.5697\n",
            "Epoch 7/200\n",
            "1407/1407 [==============================] - 2s 2ms/step - loss: 2.2474 - accuracy: 0.5754 - val_loss: 2.2399 - val_accuracy: 0.5785\n",
            "Epoch 8/200\n",
            "1407/1407 [==============================] - 2s 2ms/step - loss: 2.2383 - accuracy: 0.5793 - val_loss: 2.2312 - val_accuracy: 0.5893\n",
            "Epoch 9/200\n",
            "1407/1407 [==============================] - 2s 2ms/step - loss: 2.2297 - accuracy: 0.5854 - val_loss: 2.2225 - val_accuracy: 0.5996\n",
            "Epoch 10/200\n",
            "1407/1407 [==============================] - 2s 2ms/step - loss: 2.2209 - accuracy: 0.5956 - val_loss: 2.2138 - val_accuracy: 0.6081\n",
            "Epoch 11/200\n",
            "1407/1407 [==============================] - 2s 2ms/step - loss: 2.2135 - accuracy: 0.6080 - val_loss: 2.2095 - val_accuracy: 0.6123\n",
            "Epoch 12/200\n",
            "1407/1407 [==============================] - 2s 2ms/step - loss: 2.2097 - accuracy: 0.6092 - val_loss: 2.2052 - val_accuracy: 0.6151\n",
            "Epoch 13/200\n",
            "1407/1407 [==============================] - 2s 2ms/step - loss: 2.2048 - accuracy: 0.6186 - val_loss: 2.2009 - val_accuracy: 0.6181\n",
            "Epoch 14/200\n",
            "1407/1407 [==============================] - 2s 2ms/step - loss: 2.2009 - accuracy: 0.6152 - val_loss: 2.1966 - val_accuracy: 0.6220\n",
            "Epoch 15/200\n",
            "1407/1407 [==============================] - 2s 2ms/step - loss: 2.1965 - accuracy: 0.6218 - val_loss: 2.1923 - val_accuracy: 0.6248\n",
            "Epoch 16/200\n",
            "1407/1407 [==============================] - 2s 2ms/step - loss: 2.1920 - accuracy: 0.6273 - val_loss: 2.1880 - val_accuracy: 0.6282\n",
            "Epoch 17/200\n",
            "1407/1407 [==============================] - 2s 2ms/step - loss: 2.1879 - accuracy: 0.6262 - val_loss: 2.1838 - val_accuracy: 0.6303\n",
            "Epoch 18/200\n",
            "1407/1407 [==============================] - 2s 2ms/step - loss: 2.1839 - accuracy: 0.6259 - val_loss: 2.1795 - val_accuracy: 0.6330\n",
            "Epoch 19/200\n",
            "1407/1407 [==============================] - 2s 2ms/step - loss: 2.1794 - accuracy: 0.6324 - val_loss: 2.1752 - val_accuracy: 0.6357\n",
            "Epoch 20/200\n",
            "1407/1407 [==============================] - 2s 2ms/step - loss: 2.1756 - accuracy: 0.6343 - val_loss: 2.1710 - val_accuracy: 0.6379\n",
            "Epoch 21/200\n",
            "1407/1407 [==============================] - 2s 2ms/step - loss: 2.1720 - accuracy: 0.6355 - val_loss: 2.1689 - val_accuracy: 0.6391\n",
            "Epoch 22/200\n",
            "1407/1407 [==============================] - 2s 2ms/step - loss: 2.1699 - accuracy: 0.6329 - val_loss: 2.1668 - val_accuracy: 0.6401\n",
            "Epoch 23/200\n",
            "1407/1407 [==============================] - 2s 2ms/step - loss: 2.1673 - accuracy: 0.6409 - val_loss: 2.1647 - val_accuracy: 0.6415\n",
            "Epoch 24/200\n",
            "1407/1407 [==============================] - 2s 2ms/step - loss: 2.1654 - accuracy: 0.6406 - val_loss: 2.1626 - val_accuracy: 0.6426\n",
            "Epoch 25/200\n",
            "1407/1407 [==============================] - 2s 2ms/step - loss: 2.1626 - accuracy: 0.6448 - val_loss: 2.1604 - val_accuracy: 0.6435\n",
            "Epoch 26/200\n",
            "1407/1407 [==============================] - 2s 2ms/step - loss: 2.1612 - accuracy: 0.6443 - val_loss: 2.1583 - val_accuracy: 0.6445\n",
            "Epoch 27/200\n",
            "1407/1407 [==============================] - 2s 2ms/step - loss: 2.1587 - accuracy: 0.6467 - val_loss: 2.1562 - val_accuracy: 0.6451\n",
            "Epoch 28/200\n",
            "1407/1407 [==============================] - 2s 2ms/step - loss: 2.1578 - accuracy: 0.6439 - val_loss: 2.1541 - val_accuracy: 0.6465\n",
            "Epoch 29/200\n",
            "1407/1407 [==============================] - 2s 2ms/step - loss: 2.1545 - accuracy: 0.6490 - val_loss: 2.1520 - val_accuracy: 0.6477\n",
            "Epoch 30/200\n",
            "1407/1407 [==============================] - 2s 2ms/step - loss: 2.1531 - accuracy: 0.6485 - val_loss: 2.1499 - val_accuracy: 0.6492\n",
            "Epoch 31/200\n",
            "1407/1407 [==============================] - 2s 2ms/step - loss: 2.1510 - accuracy: 0.6524 - val_loss: 2.1489 - val_accuracy: 0.6497\n",
            "Epoch 32/200\n",
            "1407/1407 [==============================] - 2s 2ms/step - loss: 2.1499 - accuracy: 0.6497 - val_loss: 2.1478 - val_accuracy: 0.6502\n",
            "Epoch 33/200\n",
            "1407/1407 [==============================] - 2s 2ms/step - loss: 2.1482 - accuracy: 0.6547 - val_loss: 2.1468 - val_accuracy: 0.6507\n",
            "Epoch 34/200\n",
            "1407/1407 [==============================] - 2s 2ms/step - loss: 2.1478 - accuracy: 0.6541 - val_loss: 2.1457 - val_accuracy: 0.6516\n",
            "Epoch 35/200\n",
            "1407/1407 [==============================] - 2s 2ms/step - loss: 2.1457 - accuracy: 0.6573 - val_loss: 2.1447 - val_accuracy: 0.6524\n",
            "Epoch 36/200\n",
            "1407/1407 [==============================] - 2s 2ms/step - loss: 2.1458 - accuracy: 0.6502 - val_loss: 2.1436 - val_accuracy: 0.6528\n",
            "Epoch 37/200\n",
            "1407/1407 [==============================] - 2s 2ms/step - loss: 2.1447 - accuracy: 0.6539 - val_loss: 2.1426 - val_accuracy: 0.6532\n",
            "Epoch 38/200\n",
            "1407/1407 [==============================] - 2s 2ms/step - loss: 2.1437 - accuracy: 0.6512 - val_loss: 2.1415 - val_accuracy: 0.6537\n",
            "Epoch 39/200\n",
            "1407/1407 [==============================] - 2s 2ms/step - loss: 2.1427 - accuracy: 0.6522 - val_loss: 2.1405 - val_accuracy: 0.6540\n",
            "Epoch 40/200\n",
            "1407/1407 [==============================] - 2s 2ms/step - loss: 2.1424 - accuracy: 0.6520 - val_loss: 2.1395 - val_accuracy: 0.6546\n",
            "Epoch 41/200\n",
            "1407/1407 [==============================] - 2s 2ms/step - loss: 2.1403 - accuracy: 0.6519 - val_loss: 2.1389 - val_accuracy: 0.6548\n",
            "Epoch 42/200\n",
            "1407/1407 [==============================] - 2s 2ms/step - loss: 2.1412 - accuracy: 0.6525 - val_loss: 2.1384 - val_accuracy: 0.6549\n",
            "Epoch 43/200\n",
            "1407/1407 [==============================] - 2s 2ms/step - loss: 2.1394 - accuracy: 0.6531 - val_loss: 2.1379 - val_accuracy: 0.6549\n",
            "Epoch 44/200\n",
            "1407/1407 [==============================] - 2s 2ms/step - loss: 2.1397 - accuracy: 0.6522 - val_loss: 2.1374 - val_accuracy: 0.6550\n",
            "Epoch 45/200\n",
            "1407/1407 [==============================] - 2s 2ms/step - loss: 2.1379 - accuracy: 0.6556 - val_loss: 2.1368 - val_accuracy: 0.6553\n",
            "Epoch 46/200\n",
            "1407/1407 [==============================] - 2s 2ms/step - loss: 2.1384 - accuracy: 0.6531 - val_loss: 2.1363 - val_accuracy: 0.6555\n",
            "Epoch 47/200\n",
            "1407/1407 [==============================] - 2s 2ms/step - loss: 2.1369 - accuracy: 0.6556 - val_loss: 2.1358 - val_accuracy: 0.6558\n",
            "Epoch 48/200\n",
            "1407/1407 [==============================] - 2s 2ms/step - loss: 2.1377 - accuracy: 0.6534 - val_loss: 2.1353 - val_accuracy: 0.6560\n",
            "Epoch 49/200\n",
            "1407/1407 [==============================] - 2s 2ms/step - loss: 2.1379 - accuracy: 0.6507 - val_loss: 2.1348 - val_accuracy: 0.6563\n",
            "Epoch 50/200\n",
            "1407/1407 [==============================] - 2s 2ms/step - loss: 2.1349 - accuracy: 0.6574 - val_loss: 2.1342 - val_accuracy: 0.6563\n",
            "Epoch 51/200\n",
            "1407/1407 [==============================] - 2s 2ms/step - loss: 2.1353 - accuracy: 0.6565 - val_loss: 2.1340 - val_accuracy: 0.6564\n",
            "Epoch 52/200\n",
            "1407/1407 [==============================] - 2s 2ms/step - loss: 2.1342 - accuracy: 0.6602 - val_loss: 2.1337 - val_accuracy: 0.6566\n",
            "Epoch 53/200\n",
            "1407/1407 [==============================] - 2s 2ms/step - loss: 2.1352 - accuracy: 0.6545 - val_loss: 2.1335 - val_accuracy: 0.6567\n",
            "Epoch 54/200\n",
            "1407/1407 [==============================] - 2s 2ms/step - loss: 2.1359 - accuracy: 0.6534 - val_loss: 2.1332 - val_accuracy: 0.6568\n",
            "Epoch 55/200\n",
            "1407/1407 [==============================] - 2s 2ms/step - loss: 2.1339 - accuracy: 0.6573 - val_loss: 2.1329 - val_accuracy: 0.6568\n",
            "Epoch 56/200\n",
            "1407/1407 [==============================] - 2s 2ms/step - loss: 2.1346 - accuracy: 0.6535 - val_loss: 2.1327 - val_accuracy: 0.6569\n",
            "Epoch 57/200\n",
            "1407/1407 [==============================] - 2s 2ms/step - loss: 2.1348 - accuracy: 0.6516 - val_loss: 2.1324 - val_accuracy: 0.6569\n",
            "Epoch 58/200\n",
            "1407/1407 [==============================] - 2s 2ms/step - loss: 2.1329 - accuracy: 0.6588 - val_loss: 2.1322 - val_accuracy: 0.6572\n",
            "Epoch 59/200\n",
            "1407/1407 [==============================] - 2s 2ms/step - loss: 2.1333 - accuracy: 0.6584 - val_loss: 2.1319 - val_accuracy: 0.6573\n",
            "Epoch 60/200\n",
            "1407/1407 [==============================] - 2s 2ms/step - loss: 2.1330 - accuracy: 0.6564 - val_loss: 2.1316 - val_accuracy: 0.6574\n",
            "Epoch 61/200\n",
            "1407/1407 [==============================] - 2s 2ms/step - loss: 2.1342 - accuracy: 0.6511 - val_loss: 2.1315 - val_accuracy: 0.6575\n",
            "Epoch 62/200\n",
            "1407/1407 [==============================] - 2s 2ms/step - loss: 2.1324 - accuracy: 0.6578 - val_loss: 2.1314 - val_accuracy: 0.6575\n",
            "Epoch 63/200\n",
            "1407/1407 [==============================] - 2s 2ms/step - loss: 2.1322 - accuracy: 0.6604 - val_loss: 2.1312 - val_accuracy: 0.6575\n",
            "Epoch 64/200\n",
            "1407/1407 [==============================] - 2s 2ms/step - loss: 2.1322 - accuracy: 0.6609 - val_loss: 2.1311 - val_accuracy: 0.6575\n",
            "Epoch 65/200\n",
            "1407/1407 [==============================] - 2s 2ms/step - loss: 2.1329 - accuracy: 0.6584 - val_loss: 2.1310 - val_accuracy: 0.6576\n",
            "Epoch 66/200\n",
            "1407/1407 [==============================] - 2s 2ms/step - loss: 2.1325 - accuracy: 0.6549 - val_loss: 2.1309 - val_accuracy: 0.6576\n",
            "Epoch 67/200\n",
            "1407/1407 [==============================] - 2s 2ms/step - loss: 2.1319 - accuracy: 0.6557 - val_loss: 2.1307 - val_accuracy: 0.6577\n",
            "Epoch 68/200\n",
            "1407/1407 [==============================] - 2s 2ms/step - loss: 2.1331 - accuracy: 0.6571 - val_loss: 2.1306 - val_accuracy: 0.6578\n",
            "Epoch 69/200\n",
            "1407/1407 [==============================] - 2s 2ms/step - loss: 2.1314 - accuracy: 0.6591 - val_loss: 2.1305 - val_accuracy: 0.6578\n",
            "Epoch 70/200\n",
            "1407/1407 [==============================] - 2s 2ms/step - loss: 2.1317 - accuracy: 0.6578 - val_loss: 2.1303 - val_accuracy: 0.6578\n",
            "Epoch 71/200\n",
            "1407/1407 [==============================] - 2s 2ms/step - loss: 2.1315 - accuracy: 0.6575 - val_loss: 2.1303 - val_accuracy: 0.6578\n",
            "Epoch 72/200\n",
            "1407/1407 [==============================] - 2s 2ms/step - loss: 2.1317 - accuracy: 0.6599 - val_loss: 2.1302 - val_accuracy: 0.6579\n",
            "Epoch 73/200\n",
            "1407/1407 [==============================] - 2s 2ms/step - loss: 2.1311 - accuracy: 0.6597 - val_loss: 2.1301 - val_accuracy: 0.6579\n",
            "Epoch 74/200\n",
            "1407/1407 [==============================] - 2s 2ms/step - loss: 2.1312 - accuracy: 0.6591 - val_loss: 2.1301 - val_accuracy: 0.6579\n",
            "Epoch 75/200\n",
            "1407/1407 [==============================] - 2s 2ms/step - loss: 2.1323 - accuracy: 0.6550 - val_loss: 2.1300 - val_accuracy: 0.6579\n",
            "Epoch 76/200\n",
            "1407/1407 [==============================] - 2s 2ms/step - loss: 2.1309 - accuracy: 0.6569 - val_loss: 2.1299 - val_accuracy: 0.6579\n",
            "Epoch 77/200\n",
            "1407/1407 [==============================] - 2s 2ms/step - loss: 2.1313 - accuracy: 0.6576 - val_loss: 2.1299 - val_accuracy: 0.6579\n",
            "Epoch 78/200\n",
            "1407/1407 [==============================] - 3s 2ms/step - loss: 2.1314 - accuracy: 0.6591 - val_loss: 2.1298 - val_accuracy: 0.6580\n",
            "Epoch 79/200\n",
            "1407/1407 [==============================] - 3s 2ms/step - loss: 2.1323 - accuracy: 0.6557 - val_loss: 2.1298 - val_accuracy: 0.6580\n",
            "Epoch 80/200\n",
            "1407/1407 [==============================] - 3s 2ms/step - loss: 2.1313 - accuracy: 0.6544 - val_loss: 2.1297 - val_accuracy: 0.6581\n",
            "Epoch 81/200\n",
            "1407/1407 [==============================] - 2s 2ms/step - loss: 2.1320 - accuracy: 0.6526 - val_loss: 2.1297 - val_accuracy: 0.6581\n",
            "Epoch 82/200\n",
            "1407/1407 [==============================] - 2s 2ms/step - loss: 2.1316 - accuracy: 0.6573 - val_loss: 2.1296 - val_accuracy: 0.6581\n",
            "Epoch 83/200\n",
            "1407/1407 [==============================] - 2s 2ms/step - loss: 2.1320 - accuracy: 0.6586 - val_loss: 2.1296 - val_accuracy: 0.6581\n",
            "Epoch 84/200\n",
            "1407/1407 [==============================] - 2s 2ms/step - loss: 2.1312 - accuracy: 0.6567 - val_loss: 2.1296 - val_accuracy: 0.6581\n",
            "Epoch 85/200\n",
            "1407/1407 [==============================] - 2s 2ms/step - loss: 2.1317 - accuracy: 0.6554 - val_loss: 2.1295 - val_accuracy: 0.6582\n",
            "Epoch 86/200\n",
            "1407/1407 [==============================] - 2s 2ms/step - loss: 2.1314 - accuracy: 0.6570 - val_loss: 2.1295 - val_accuracy: 0.6582\n",
            "Epoch 87/200\n",
            "1407/1407 [==============================] - 2s 2ms/step - loss: 2.1312 - accuracy: 0.6575 - val_loss: 2.1295 - val_accuracy: 0.6582\n",
            "Epoch 88/200\n",
            "1407/1407 [==============================] - 2s 2ms/step - loss: 2.1309 - accuracy: 0.6571 - val_loss: 2.1294 - val_accuracy: 0.6582\n",
            "Epoch 89/200\n",
            "1407/1407 [==============================] - 2s 2ms/step - loss: 2.1316 - accuracy: 0.6569 - val_loss: 2.1294 - val_accuracy: 0.6582\n",
            "Epoch 90/200\n",
            "1407/1407 [==============================] - 2s 2ms/step - loss: 2.1320 - accuracy: 0.6566 - val_loss: 2.1294 - val_accuracy: 0.6582\n",
            "Epoch 91/200\n",
            "1407/1407 [==============================] - 2s 2ms/step - loss: 2.1309 - accuracy: 0.6573 - val_loss: 2.1293 - val_accuracy: 0.6583\n",
            "Epoch 92/200\n",
            "1407/1407 [==============================] - 2s 2ms/step - loss: 2.1302 - accuracy: 0.6592 - val_loss: 2.1293 - val_accuracy: 0.6583\n",
            "Epoch 93/200\n",
            "1407/1407 [==============================] - 3s 2ms/step - loss: 2.1316 - accuracy: 0.6555 - val_loss: 2.1293 - val_accuracy: 0.6583\n",
            "Epoch 94/200\n",
            "1407/1407 [==============================] - 3s 2ms/step - loss: 2.1309 - accuracy: 0.6535 - val_loss: 2.1293 - val_accuracy: 0.6583\n",
            "Epoch 95/200\n",
            "1407/1407 [==============================] - 2s 2ms/step - loss: 2.1298 - accuracy: 0.6598 - val_loss: 2.1293 - val_accuracy: 0.6583\n",
            "Epoch 96/200\n",
            "1407/1407 [==============================] - 2s 2ms/step - loss: 2.1305 - accuracy: 0.6582 - val_loss: 2.1293 - val_accuracy: 0.6583\n",
            "Epoch 97/200\n",
            "1407/1407 [==============================] - 2s 2ms/step - loss: 2.1313 - accuracy: 0.6552 - val_loss: 2.1292 - val_accuracy: 0.6583\n",
            "Epoch 98/200\n",
            "1407/1407 [==============================] - 2s 2ms/step - loss: 2.1304 - accuracy: 0.6589 - val_loss: 2.1292 - val_accuracy: 0.6583\n",
            "Epoch 99/200\n",
            "1407/1407 [==============================] - 2s 2ms/step - loss: 2.1312 - accuracy: 0.6568 - val_loss: 2.1292 - val_accuracy: 0.6583\n",
            "Epoch 100/200\n",
            "1407/1407 [==============================] - 2s 2ms/step - loss: 2.1312 - accuracy: 0.6557 - val_loss: 2.1292 - val_accuracy: 0.6583\n",
            "Epoch 101/200\n",
            "1407/1407 [==============================] - 2s 2ms/step - loss: 2.1302 - accuracy: 0.6602 - val_loss: 2.1292 - val_accuracy: 0.6583\n",
            "Epoch 102/200\n",
            "1407/1407 [==============================] - 3s 2ms/step - loss: 2.1297 - accuracy: 0.6615 - val_loss: 2.1292 - val_accuracy: 0.6583\n",
            "Epoch 103/200\n",
            "1407/1407 [==============================] - 2s 2ms/step - loss: 2.1302 - accuracy: 0.6580 - val_loss: 2.1292 - val_accuracy: 0.6583\n",
            "Epoch 104/200\n",
            "1407/1407 [==============================] - 2s 2ms/step - loss: 2.1304 - accuracy: 0.6616 - val_loss: 2.1292 - val_accuracy: 0.6583\n",
            "Epoch 105/200\n",
            "1407/1407 [==============================] - 2s 2ms/step - loss: 2.1310 - accuracy: 0.6599 - val_loss: 2.1292 - val_accuracy: 0.6583\n",
            "Epoch 106/200\n",
            "1407/1407 [==============================] - 2s 2ms/step - loss: 2.1319 - accuracy: 0.6554 - val_loss: 2.1292 - val_accuracy: 0.6583\n",
            "Epoch 107/200\n",
            "1407/1407 [==============================] - 2s 2ms/step - loss: 2.1314 - accuracy: 0.6558 - val_loss: 2.1292 - val_accuracy: 0.6583\n",
            "Epoch 108/200\n",
            "1407/1407 [==============================] - 2s 2ms/step - loss: 2.1304 - accuracy: 0.6566 - val_loss: 2.1291 - val_accuracy: 0.6583\n",
            "Epoch 109/200\n",
            "1407/1407 [==============================] - 2s 2ms/step - loss: 2.1300 - accuracy: 0.6627 - val_loss: 2.1291 - val_accuracy: 0.6583\n",
            "Epoch 110/200\n",
            "1407/1407 [==============================] - 2s 2ms/step - loss: 2.1316 - accuracy: 0.6540 - val_loss: 2.1291 - val_accuracy: 0.6582\n",
            "Epoch 111/200\n",
            "1407/1407 [==============================] - 2s 2ms/step - loss: 2.1311 - accuracy: 0.6593 - val_loss: 2.1291 - val_accuracy: 0.6582\n",
            "Epoch 112/200\n",
            "1407/1407 [==============================] - 2s 2ms/step - loss: 2.1308 - accuracy: 0.6576 - val_loss: 2.1291 - val_accuracy: 0.6582\n",
            "Epoch 113/200\n",
            "1407/1407 [==============================] - 2s 2ms/step - loss: 2.1311 - accuracy: 0.6582 - val_loss: 2.1291 - val_accuracy: 0.6582\n",
            "Epoch 114/200\n",
            "1407/1407 [==============================] - 2s 2ms/step - loss: 2.1299 - accuracy: 0.6592 - val_loss: 2.1291 - val_accuracy: 0.6582\n",
            "Epoch 115/200\n",
            "1407/1407 [==============================] - 2s 2ms/step - loss: 2.1315 - accuracy: 0.6553 - val_loss: 2.1291 - val_accuracy: 0.6582\n",
            "Epoch 116/200\n",
            "1407/1407 [==============================] - 2s 2ms/step - loss: 2.1313 - accuracy: 0.6576 - val_loss: 2.1291 - val_accuracy: 0.6582\n",
            "Epoch 117/200\n",
            "1407/1407 [==============================] - 2s 2ms/step - loss: 2.1305 - accuracy: 0.6571 - val_loss: 2.1291 - val_accuracy: 0.6582\n",
            "Epoch 118/200\n",
            "1407/1407 [==============================] - 2s 2ms/step - loss: 2.1306 - accuracy: 0.6571 - val_loss: 2.1291 - val_accuracy: 0.6582\n",
            "Epoch 119/200\n",
            "1407/1407 [==============================] - 2s 2ms/step - loss: 2.1310 - accuracy: 0.6579 - val_loss: 2.1291 - val_accuracy: 0.6582\n",
            "Epoch 120/200\n",
            "1407/1407 [==============================] - 2s 2ms/step - loss: 2.1308 - accuracy: 0.6590 - val_loss: 2.1291 - val_accuracy: 0.6582\n",
            "Epoch 121/200\n",
            "1407/1407 [==============================] - 2s 2ms/step - loss: 2.1303 - accuracy: 0.6601 - val_loss: 2.1291 - val_accuracy: 0.6582\n",
            "Epoch 122/200\n",
            "1407/1407 [==============================] - 2s 2ms/step - loss: 2.1301 - accuracy: 0.6602 - val_loss: 2.1291 - val_accuracy: 0.6582\n",
            "Epoch 123/200\n",
            "1407/1407 [==============================] - 2s 2ms/step - loss: 2.1311 - accuracy: 0.6567 - val_loss: 2.1291 - val_accuracy: 0.6582\n",
            "Epoch 124/200\n",
            "1407/1407 [==============================] - 2s 2ms/step - loss: 2.1301 - accuracy: 0.6610 - val_loss: 2.1291 - val_accuracy: 0.6582\n",
            "Epoch 125/200\n",
            "1407/1407 [==============================] - 2s 2ms/step - loss: 2.1311 - accuracy: 0.6568 - val_loss: 2.1291 - val_accuracy: 0.6582\n",
            "Epoch 126/200\n",
            "1407/1407 [==============================] - 2s 2ms/step - loss: 2.1312 - accuracy: 0.6580 - val_loss: 2.1291 - val_accuracy: 0.6582\n",
            "Epoch 127/200\n",
            "1407/1407 [==============================] - 2s 2ms/step - loss: 2.1305 - accuracy: 0.6575 - val_loss: 2.1291 - val_accuracy: 0.6582\n",
            "Epoch 128/200\n",
            "1407/1407 [==============================] - 2s 2ms/step - loss: 2.1296 - accuracy: 0.6626 - val_loss: 2.1291 - val_accuracy: 0.6582\n",
            "Epoch 129/200\n",
            "1407/1407 [==============================] - 2s 2ms/step - loss: 2.1304 - accuracy: 0.6587 - val_loss: 2.1291 - val_accuracy: 0.6582\n",
            "Epoch 130/200\n",
            "1407/1407 [==============================] - 3s 2ms/step - loss: 2.1310 - accuracy: 0.6591 - val_loss: 2.1291 - val_accuracy: 0.6582\n",
            "Epoch 131/200\n",
            "1407/1407 [==============================] - 2s 2ms/step - loss: 2.1304 - accuracy: 0.6569 - val_loss: 2.1291 - val_accuracy: 0.6582\n",
            "Epoch 132/200\n",
            "1407/1407 [==============================] - 2s 2ms/step - loss: 2.1312 - accuracy: 0.6563 - val_loss: 2.1291 - val_accuracy: 0.6582\n",
            "Epoch 133/200\n",
            "1407/1407 [==============================] - 2s 2ms/step - loss: 2.1310 - accuracy: 0.6582 - val_loss: 2.1291 - val_accuracy: 0.6582\n",
            "Epoch 134/200\n",
            "1407/1407 [==============================] - 2s 2ms/step - loss: 2.1303 - accuracy: 0.6587 - val_loss: 2.1291 - val_accuracy: 0.6582\n",
            "Epoch 135/200\n",
            "1407/1407 [==============================] - 2s 2ms/step - loss: 2.1304 - accuracy: 0.6574 - val_loss: 2.1291 - val_accuracy: 0.6582\n",
            "Epoch 136/200\n",
            "1407/1407 [==============================] - 2s 2ms/step - loss: 2.1306 - accuracy: 0.6600 - val_loss: 2.1291 - val_accuracy: 0.6582\n",
            "Epoch 137/200\n",
            "1407/1407 [==============================] - 2s 2ms/step - loss: 2.1307 - accuracy: 0.6581 - val_loss: 2.1291 - val_accuracy: 0.6582\n",
            "Epoch 138/200\n",
            "1407/1407 [==============================] - 2s 2ms/step - loss: 2.1300 - accuracy: 0.6607 - val_loss: 2.1291 - val_accuracy: 0.6582\n",
            "Epoch 139/200\n",
            "1407/1407 [==============================] - 2s 2ms/step - loss: 2.1307 - accuracy: 0.6558 - val_loss: 2.1291 - val_accuracy: 0.6582\n",
            "Epoch 140/200\n",
            "1407/1407 [==============================] - 2s 2ms/step - loss: 2.1315 - accuracy: 0.6554 - val_loss: 2.1291 - val_accuracy: 0.6582\n",
            "Epoch 141/200\n",
            "1407/1407 [==============================] - 2s 2ms/step - loss: 2.1303 - accuracy: 0.6550 - val_loss: 2.1291 - val_accuracy: 0.6582\n",
            "Epoch 142/200\n",
            "1407/1407 [==============================] - 2s 2ms/step - loss: 2.1307 - accuracy: 0.6611 - val_loss: 2.1291 - val_accuracy: 0.6582\n",
            "Epoch 143/200\n",
            "1407/1407 [==============================] - 2s 2ms/step - loss: 2.1304 - accuracy: 0.6604 - val_loss: 2.1291 - val_accuracy: 0.6582\n",
            "Epoch 144/200\n",
            "1407/1407 [==============================] - 2s 2ms/step - loss: 2.1313 - accuracy: 0.6548 - val_loss: 2.1291 - val_accuracy: 0.6582\n",
            "Epoch 145/200\n",
            "1407/1407 [==============================] - 2s 2ms/step - loss: 2.1306 - accuracy: 0.6616 - val_loss: 2.1291 - val_accuracy: 0.6582\n",
            "Epoch 146/200\n",
            "1407/1407 [==============================] - 2s 2ms/step - loss: 2.1310 - accuracy: 0.6539 - val_loss: 2.1291 - val_accuracy: 0.6582\n",
            "Epoch 147/200\n",
            "1407/1407 [==============================] - 2s 2ms/step - loss: 2.1303 - accuracy: 0.6581 - val_loss: 2.1291 - val_accuracy: 0.6582\n",
            "Epoch 148/200\n",
            "1407/1407 [==============================] - 2s 2ms/step - loss: 2.1304 - accuracy: 0.6583 - val_loss: 2.1291 - val_accuracy: 0.6582\n",
            "Epoch 149/200\n",
            "1407/1407 [==============================] - 2s 2ms/step - loss: 2.1307 - accuracy: 0.6598 - val_loss: 2.1291 - val_accuracy: 0.6582\n",
            "Epoch 150/200\n",
            "1407/1407 [==============================] - 2s 2ms/step - loss: 2.1307 - accuracy: 0.6601 - val_loss: 2.1291 - val_accuracy: 0.6582\n"
          ],
          "name": "stdout"
        },
        {
          "output_type": "execute_result",
          "data": {
            "text/plain": [
              "<tensorflow.python.keras.callbacks.History at 0x7f12fdbea710>"
            ]
          },
          "metadata": {
            "tags": []
          },
          "execution_count": 67
        }
      ]
    },
    {
      "cell_type": "markdown",
      "metadata": {
        "id": "TC4AkwHyG2Uk"
      },
      "source": [
        "Here we know the training dataset has 45k samples and a batch size of 32. So we need to train 1406.5 , approximately 1407 samples in each batch\n",
        "1407*32 = 45K should be equal to the number of data points in the training set\n",
        "\n",
        "We know that epoch is the number iterations or teh number of times we will run the iterations. Here we stop at 150 epoch becaus ethe validation error is not improving any further\n",
        "The accuracy is poor\n"
      ]
    },
    {
      "cell_type": "markdown",
      "metadata": {
        "id": "aRntOjq8LlPr"
      },
      "source": [
        "### 7.TESTING THE MODEL ON THE TEST SET AND EXTRACTING RELEVANT METRICS"
      ]
    },
    {
      "cell_type": "code",
      "metadata": {
        "colab": {
          "base_uri": "https://localhost:8080/"
        },
        "id": "kxaFt425MyGJ",
        "outputId": "2740c482-36cb-49ed-d32a-8c9961282968"
      },
      "source": [
        "model.load_weights(model_name) # here the weight we are produced during model training\n",
        "metrics = model.evaluate(X_test, Y_test_oh) # it will return the loss and metrics when we are testing the model # here we have categorical cross entropy here is loss and accuracy is the metrics\n",
        "#print(metrics) # in step 4 we stated that we wan to measure and monitor two metrics\n",
        "print(\"Categorical cross-entropy:\" , metrics[0])\n",
        "print(\"Accuracy:\" , metrics[1])\n"
      ],
      "execution_count": 75,
      "outputs": [
        {
          "output_type": "stream",
          "text": [
            "313/313 [==============================] - 0s 923us/step - loss: 2.1271 - accuracy: 0.6755\n",
            "Categorical cross-entropy: 2.127082109451294\n",
            "Accuracy: 0.6754999756813049\n"
          ],
          "name": "stdout"
        }
      ]
    },
    {
      "cell_type": "markdown",
      "metadata": {
        "id": "rI-oJYs2Smm_"
      },
      "source": [
        "#LOOKING AT THE WRONGLY CLASSIFIED IMAGES"
      ]
    },
    {
      "cell_type": "code",
      "metadata": {
        "colab": {
          "base_uri": "https://localhost:8080/",
          "height": 1000
        },
        "id": "Ojq8G2t3NWEJ",
        "outputId": "c48a1103-0a72-46ea-b746-ea7b92844677"
      },
      "source": [
        "Y_pred = model.predict(X_test).argmax(axis = 1)# Here we are looking at the iamges and predicting the labels across the rows of the test set\n",
        "print(Y_pred)\n",
        "# input is x_test and labels is being predicted\n",
        "# here we are predicting the class with the highest probability\n",
        "wrong_indexes = np.where(Y_pred !=Y_test)[0] #Predictions are differnet from the ground truth ie. test set\n",
        "print(wrong_indexes)\n",
        "\n",
        " #looking at images that I want to identify incoorectly classified images so that I can understand where my model is unable to get correct results\n",
        "sample_indexes = np.random.choice (np.arange(wrong_indexes.size, dtype  = int), size = 30, replace = False ) #chosing 30 cases when the classification did not work\n",
        " # 30 wrong images that are not repeasted\n",
        " #above we show a subset of indexes\n",
        "[0]\n",
        "#polotting cases when the classification failed\n",
        "plt.figure(figsize = (24,18))\n",
        "for (ii,jj) in enumerate(sample_indexes): # looking through 30 wrong images # position is ii and iamge is jj\n",
        "   plt.subplot(5,6,ii+1) # each figure will have a different subplot. Each subplot wiull have 5 rows and 6 columns starting at index 1 (ii+1)\n",
        "   plt.imshow(X_test[wrong_indexes[jj]], cmap = 'gray') # the image that i want to show is the wrong image at position jj\n",
        "   plt.title(\"Label %d, predicted label :%d\"%(Y_test[wrong_indexes[jj]], Y_pred[wrong_indexes[jj]]))\n",
        "plt.show()"
      ],
      "execution_count": 107,
      "outputs": [
        {
          "output_type": "stream",
          "text": [
            "[7 2 1 ... 7 1 6]\n",
            "[   6    8    9 ... 9988 9997 9998]\n"
          ],
          "name": "stdout"
        },
        {
          "output_type": "display_data",
          "data": {
            "image/png": "[encoded data removed]",
            "text/plain": [
              "<Figure size 1728x1296 with 30 Axes>"
            ]
          },
          "metadata": {
            "tags": [],
            "needs_background": "light"
          }
        }
      ]
    },
    {
      "cell_type": "code",
      "metadata": {
        "id": "g3bdvzncey2U"
      },
      "source": [
        "what is ii and jj ask"
      ],
      "execution_count": null,
      "outputs": []
    },
    {
      "cell_type": "markdown",
      "metadata": {
        "id": "8sIwA9o2iZ_s"
      },
      "source": [
        "inc layers\n",
        "change "
      ]
    }
  ]
}